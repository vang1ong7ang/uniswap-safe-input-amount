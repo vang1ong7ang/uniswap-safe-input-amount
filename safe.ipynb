{
 "cells": [
  {
   "cell_type": "markdown",
   "id": "apart-transport",
   "metadata": {},
   "source": [
    "The safe swap input amount show below where $x$ is the amount of input token in the pool and $g$ (commonly $0.997$) is $1$ minus transaction fee (commonly $0.3\\%$)"
   ]
  },
  {
   "cell_type": "markdown",
   "id": "changing-saskatchewan",
   "metadata": {},
   "source": [
    "$$\n",
    "- \\frac{x \\left(g + 1\\right)}{2 g} + \\frac{x \\sqrt{g^{3} \\left(g + 1\\right) \\left(g^{2} - 3 g + 4\\right)}}{2 g^{3}}\n",
    "$$"
   ]
  }
 ],
 "metadata": {
  "kernelspec": {
   "display_name": "Python 3",
   "language": "python",
   "name": "python3"
  },
  "language_info": {
   "codemirror_mode": {
    "name": "ipython",
    "version": 3
   },
   "file_extension": ".py",
   "mimetype": "text/x-python",
   "name": "python",
   "nbconvert_exporter": "python",
   "pygments_lexer": "ipython3",
   "version": "3.7.3"
  }
 },
 "nbformat": 4,
 "nbformat_minor": 5
}
